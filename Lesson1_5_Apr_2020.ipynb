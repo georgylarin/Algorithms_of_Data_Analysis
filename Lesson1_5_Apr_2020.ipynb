{
 "cells": [
  {
   "cell_type": "markdown",
   "metadata": {},
   "source": [
    "### ДЗ к уроку 1 Алгоритм линейной регрессии. Градиентный спуск"
   ]
  },
  {
   "cell_type": "code",
   "execution_count": 1,
   "metadata": {},
   "outputs": [],
   "source": [
    "import numpy as np\n",
    "import matplotlib.pyplot as plt\n",
    "%config InlineBackend.figure_format='retina'\n",
    "import warnings\n",
    "warnings.simplefilter('ignore')"
   ]
  },
  {
   "cell_type": "code",
   "execution_count": 2,
   "metadata": {},
   "outputs": [],
   "source": [
    "X = np.array([[1, 1, 1, 1, 1,\n",
    "               1, 1, 1, 1, 1],\n",
    "              [1, 1, 2, 1, 3, \n",
    "               0, 5, 10, 1, 2]]).T"
   ]
  },
  {
   "cell_type": "code",
   "execution_count": 3,
   "metadata": {},
   "outputs": [],
   "source": [
    "y = [45, 55, 50, 59, 65, 35, 75, 80, 50, 60]"
   ]
  },
  {
   "cell_type": "code",
   "execution_count": 4,
   "metadata": {},
   "outputs": [
    {
     "data": {
      "text/plain": [
       "(array([1. , 0.5]), 0.01)"
      ]
     },
     "execution_count": 4,
     "metadata": {},
     "output_type": "execute_result"
    }
   ],
   "source": [
    "n = X.shape[1]\n",
    "epoch = 200\n",
    "lr = 0.01\n",
    "W = np.array([1, 0.5])\n",
    "W, lr"
   ]
  },
  {
   "cell_type": "code",
   "execution_count": 5,
   "metadata": {},
   "outputs": [],
   "source": [
    "y_pred = np.dot(X, W)"
   ]
  },
  {
   "cell_type": "code",
   "execution_count": 6,
   "metadata": {},
   "outputs": [],
   "source": [
    "def calc_mse(y, y_pred):\n",
    "    return np.mean((y - y_pred)**2)"
   ]
  },
  {
   "cell_type": "code",
   "execution_count": 7,
   "metadata": {},
   "outputs": [
    {
     "name": "stdout",
     "output_type": "stream",
     "text": [
      "# итерация: 0, MSE: 3173.15, веса: [ 6.51 17.5 ]\n",
      "# итерация: 50, MSE: 50.957004607078744, веса: [44.33541912  4.44561648]\n",
      "# итерация: 100, MSE: 45.96159894380851, веса: [47.03142979  3.94777749]\n",
      "# итерация: 150, MSE: 45.93761570048005, веса: [47.21823551  3.91328238]\n"
     ]
    }
   ],
   "source": [
    "for i in range(epoch):                                                           # epoch = 200 \n",
    "    y_pred = np.dot(X, W)                                                        # lr = 0.01\n",
    "    err = calc_mse(y, y_pred)\n",
    "    for j in range(W.shape[0]):\n",
    "        W[j] -= lr * (1/n * 2 * np.sum(X[:,j] * (y_pred - y)))\n",
    "    if i % 50 == 0:\n",
    "        print(f'# итерация: {i}, MSE: {err}, веса: {W}')"
   ]
  },
  {
   "cell_type": "code",
   "execution_count": null,
   "metadata": {},
   "outputs": [],
   "source": []
  },
  {
   "cell_type": "code",
   "execution_count": 8,
   "metadata": {},
   "outputs": [
    {
     "name": "stdout",
     "output_type": "stream",
     "text": [
      "# итерация: 0, MSE: 45.93750055548497, веса: [47.23111662  3.91089223]\n",
      "# итерация: 100, MSE: 45.93750056104362, веса: [47.2311207   3.91089631]\n"
     ]
    }
   ],
   "source": [
    "for i in range(epoch):\n",
    "    y_pred = np.dot(X, W)\n",
    "    err = calc_mse(y, y_pred)\n",
    "#     for j in range(W.shape[0]):\n",
    "#         W[j] -= lr * (1/n * 2 * np.sum(X[:, j] * (y_pred - y)))\n",
    "    W -= (lr * (1/n * 2 * np.sum(X[:, j] * (y_pred - y))))            # добавить [:, j] после X\n",
    "    if i % 100 == 0:\n",
    "        print(f'# итерация: {i}, MSE: {err}, веса: {W}')"
   ]
  },
  {
   "cell_type": "code",
   "execution_count": null,
   "metadata": {},
   "outputs": [],
   "source": []
  }
 ],
 "metadata": {
  "kernelspec": {
   "display_name": "Python 3",
   "language": "python",
   "name": "python3"
  },
  "language_info": {
   "codemirror_mode": {
    "name": "ipython",
    "version": 3
   },
   "file_extension": ".py",
   "mimetype": "text/x-python",
   "name": "python",
   "nbconvert_exporter": "python",
   "pygments_lexer": "ipython3",
   "version": "3.7.4"
  }
 },
 "nbformat": 4,
 "nbformat_minor": 2
}
