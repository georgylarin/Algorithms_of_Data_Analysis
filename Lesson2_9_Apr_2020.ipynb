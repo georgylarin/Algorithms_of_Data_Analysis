{
 "cells": [
  {
   "cell_type": "markdown",
   "metadata": {},
   "source": [
    "### ДЗ к уроку 2 Масштабирование признаков. L1- и L2-регуляризация. Стохастический градиентный спуск"
   ]
  },
  {
   "cell_type": "code",
   "execution_count": null,
   "metadata": {},
   "outputs": [],
   "source": []
  },
  {
   "cell_type": "code",
   "execution_count": 1,
   "metadata": {},
   "outputs": [],
   "source": [
    "import numpy as np"
   ]
  },
  {
   "cell_type": "code",
   "execution_count": 2,
   "metadata": {},
   "outputs": [],
   "source": [
    "import matplotlib.pyplot as plt"
   ]
  },
  {
   "cell_type": "code",
   "execution_count": 3,
   "metadata": {},
   "outputs": [],
   "source": [
    "X = np.array([[1, 1, 1, 1, 1, 1, 1, 1, 1, 1],\n",
    "              [1, 1, 2, 1, 3, 0, 5, 10, 1, 2],\n",
    "              [500, 700, 750, 600, 1450,\n",
    "               800, 1500, 2000, 450, 1000],\n",
    "              [1, 1, 2, 1, 2, \n",
    "               1, 3, 3, 1, 2]]).T"
   ]
  },
  {
   "cell_type": "code",
   "execution_count": 4,
   "metadata": {},
   "outputs": [],
   "source": [
    "y = np.array([45, 55, 50, 59, 65, 35, 75, 80, 50, 60])"
   ]
  },
  {
   "cell_type": "code",
   "execution_count": 5,
   "metadata": {},
   "outputs": [
    {
     "data": {
      "text/plain": [
       "(0, 10)"
      ]
     },
     "execution_count": 5,
     "metadata": {},
     "output_type": "execute_result"
    }
   ],
   "source": [
    "X[:,1].min(), X[:,1].max()"
   ]
  },
  {
   "cell_type": "code",
   "execution_count": 6,
   "metadata": {},
   "outputs": [
    {
     "data": {
      "text/plain": [
       "(450, 2000)"
      ]
     },
     "execution_count": 6,
     "metadata": {},
     "output_type": "execute_result"
    }
   ],
   "source": [
    "X[:,2].min(), X[:,2].max()"
   ]
  },
  {
   "cell_type": "code",
   "execution_count": 7,
   "metadata": {},
   "outputs": [
    {
     "data": {
      "text/plain": [
       "array([[1.00e+00, 1.00e+00, 5.00e+02, 1.00e+00],\n",
       "       [1.00e+00, 1.00e+00, 7.00e+02, 1.00e+00],\n",
       "       [1.00e+00, 2.00e+00, 7.50e+02, 2.00e+00],\n",
       "       [1.00e+00, 1.00e+00, 6.00e+02, 1.00e+00],\n",
       "       [1.00e+00, 3.00e+00, 1.45e+03, 2.00e+00],\n",
       "       [1.00e+00, 0.00e+00, 8.00e+02, 1.00e+00],\n",
       "       [1.00e+00, 5.00e+00, 1.50e+03, 3.00e+00],\n",
       "       [1.00e+00, 1.00e+01, 2.00e+03, 3.00e+00],\n",
       "       [1.00e+00, 1.00e+00, 4.50e+02, 1.00e+00],\n",
       "       [1.00e+00, 2.00e+00, 1.00e+03, 2.00e+00]])"
      ]
     },
     "execution_count": 7,
     "metadata": {},
     "output_type": "execute_result"
    }
   ],
   "source": [
    "X_norm = X.copy()\n",
    "X_norm = X_norm.astype(np.float64)\n",
    "X_norm"
   ]
  },
  {
   "cell_type": "code",
   "execution_count": 8,
   "metadata": {},
   "outputs": [
    {
     "data": {
      "text/plain": [
       "array([[1.00e+00, 1.00e-01, 5.00e+02, 1.00e+00],\n",
       "       [1.00e+00, 1.00e-01, 7.00e+02, 1.00e+00],\n",
       "       [1.00e+00, 2.00e-01, 7.50e+02, 2.00e+00],\n",
       "       [1.00e+00, 1.00e-01, 6.00e+02, 1.00e+00],\n",
       "       [1.00e+00, 3.00e-01, 1.45e+03, 2.00e+00],\n",
       "       [1.00e+00, 0.00e+00, 8.00e+02, 1.00e+00],\n",
       "       [1.00e+00, 5.00e-01, 1.50e+03, 3.00e+00],\n",
       "       [1.00e+00, 1.00e+00, 2.00e+03, 3.00e+00],\n",
       "       [1.00e+00, 1.00e-01, 4.50e+02, 1.00e+00],\n",
       "       [1.00e+00, 2.00e-01, 1.00e+03, 2.00e+00]])"
      ]
     },
     "execution_count": 8,
     "metadata": {},
     "output_type": "execute_result"
    }
   ],
   "source": [
    "X_norm[:,1] = (X[:,1] - X[:,1].min()) / (X[:,1].max() - X[:,1].min())\n",
    "X_norm"
   ]
  },
  {
   "cell_type": "code",
   "execution_count": 9,
   "metadata": {},
   "outputs": [
    {
     "data": {
      "text/plain": [
       "array([[1.        , 0.1       , 0.03225806, 1.        ],\n",
       "       [1.        , 0.1       , 0.16129032, 1.        ],\n",
       "       [1.        , 0.2       , 0.19354839, 2.        ],\n",
       "       [1.        , 0.1       , 0.09677419, 1.        ],\n",
       "       [1.        , 0.3       , 0.64516129, 2.        ],\n",
       "       [1.        , 0.        , 0.22580645, 1.        ],\n",
       "       [1.        , 0.5       , 0.67741935, 3.        ],\n",
       "       [1.        , 1.        , 1.        , 3.        ],\n",
       "       [1.        , 0.1       , 0.        , 1.        ],\n",
       "       [1.        , 0.2       , 0.35483871, 2.        ]])"
      ]
     },
     "execution_count": 9,
     "metadata": {},
     "output_type": "execute_result"
    }
   ],
   "source": [
    "X_norm[:,2] = (X[:,2] - X[:,2].min()) / (X[:,2].max() - X[:,2].min())\n",
    "X_norm"
   ]
  },
  {
   "cell_type": "code",
   "execution_count": 10,
   "metadata": {},
   "outputs": [
    {
     "data": {
      "text/plain": [
       "2.6"
      ]
     },
     "execution_count": 10,
     "metadata": {},
     "output_type": "execute_result"
    }
   ],
   "source": [
    "X1_mean = X[:,1].mean()\n",
    "X1_mean"
   ]
  },
  {
   "cell_type": "code",
   "execution_count": 11,
   "metadata": {},
   "outputs": [
    {
     "data": {
      "text/plain": [
       "2.8000000000000003"
      ]
     },
     "execution_count": 11,
     "metadata": {},
     "output_type": "execute_result"
    }
   ],
   "source": [
    "X1_std = X[:,1].std()\n",
    "X1_std"
   ]
  },
  {
   "cell_type": "code",
   "execution_count": 12,
   "metadata": {},
   "outputs": [],
   "source": [
    "X_st = X.copy().astype(np.float64)"
   ]
  },
  {
   "cell_type": "code",
   "execution_count": 13,
   "metadata": {},
   "outputs": [
    {
     "data": {
      "text/plain": [
       "array([[ 1.00000000e+00, -5.71428571e-01,  5.00000000e+02,\n",
       "         1.00000000e+00],\n",
       "       [ 1.00000000e+00, -5.71428571e-01,  7.00000000e+02,\n",
       "         1.00000000e+00],\n",
       "       [ 1.00000000e+00, -2.14285714e-01,  7.50000000e+02,\n",
       "         2.00000000e+00],\n",
       "       [ 1.00000000e+00, -5.71428571e-01,  6.00000000e+02,\n",
       "         1.00000000e+00],\n",
       "       [ 1.00000000e+00,  1.42857143e-01,  1.45000000e+03,\n",
       "         2.00000000e+00],\n",
       "       [ 1.00000000e+00, -9.28571429e-01,  8.00000000e+02,\n",
       "         1.00000000e+00],\n",
       "       [ 1.00000000e+00,  8.57142857e-01,  1.50000000e+03,\n",
       "         3.00000000e+00],\n",
       "       [ 1.00000000e+00,  2.64285714e+00,  2.00000000e+03,\n",
       "         3.00000000e+00],\n",
       "       [ 1.00000000e+00, -5.71428571e-01,  4.50000000e+02,\n",
       "         1.00000000e+00],\n",
       "       [ 1.00000000e+00, -2.14285714e-01,  1.00000000e+03,\n",
       "         2.00000000e+00]])"
      ]
     },
     "execution_count": 13,
     "metadata": {},
     "output_type": "execute_result"
    }
   ],
   "source": [
    "X_st[:,1] = (X[:,1] - X1_mean) / X1_std\n",
    "X_st"
   ]
  },
  {
   "cell_type": "code",
   "execution_count": 14,
   "metadata": {},
   "outputs": [],
   "source": [
    "def custom_StandardScaler(x):\n",
    "    res = (x - x.mean()) / x.std()\n",
    "    return res"
   ]
  },
  {
   "cell_type": "code",
   "execution_count": 15,
   "metadata": {},
   "outputs": [],
   "source": [
    "X_st[:,2] = custom_StandardScaler(X[:,2])"
   ]
  },
  {
   "cell_type": "code",
   "execution_count": 16,
   "metadata": {},
   "outputs": [],
   "source": [
    "X_st[:,3] = custom_StandardScaler(X[:,3])"
   ]
  },
  {
   "cell_type": "code",
   "execution_count": 17,
   "metadata": {},
   "outputs": [],
   "source": [
    "def calc_mse(y, y_pred):\n",
    "    err = np.mean((y - y_pred)**2)\n",
    "    return err"
   ]
  },
  {
   "cell_type": "code",
   "execution_count": 18,
   "metadata": {},
   "outputs": [],
   "source": [
    "def eval_model(X, y, iterations, alpha=1e-4):\n",
    "    W = np.random.randn(X.shape[1])\n",
    "    n = X.shape[0]\n",
    "    for i in range(1, iterations+1):\n",
    "        y_pred = np.dot(X, W)\n",
    "        err = calc_mse(y, y_pred)\n",
    "        W -= (alpha * (1/n * 2 * np.dot((y_pred - y), X)))\n",
    "        if i % (iterations / 10) == 0:\n",
    "            print(f'# итерация: {i}, MSE: {err}, веса: {W}')\n",
    "    return W"
   ]
  },
  {
   "cell_type": "code",
   "execution_count": 19,
   "metadata": {},
   "outputs": [
    {
     "name": "stdout",
     "output_type": "stream",
     "text": [
      "# итерация: 100, MSE: 105.82729961503324, веса: [49.50919138  4.25226568  4.36605366  2.96561808]\n",
      "# итерация: 200, MSE: 41.765536206389996, веса: [56.35352447  4.57531845  3.8942851   3.16449231]\n",
      "# итерация: 300, MSE: 40.388826905370635, веса: [57.26121688  4.83239797  3.48799943  3.31927537]\n",
      "# итерация: 400, MSE: 40.190257077489576, веса: [57.38159464  5.04657177  3.1485977   3.44904188]\n",
      "# итерация: 500, MSE: 40.0651770631049, веса: [57.39755909  5.22507171  2.86510938  3.55782242]\n",
      "# итерация: 600, MSE: 39.97818719230206, веса: [57.39967629  5.37386821  2.62832788  3.64897604]\n",
      "# итерация: 700, MSE: 39.91752790346481, веса: [57.39995707  5.4979255   2.43056129  3.72533282]\n",
      "# итерация: 800, MSE: 39.87522624498369, веса: [57.39999431  5.60137291  2.26538363  3.789275  ]\n",
      "# итерация: 900, MSE: 39.84572636337411, веса: [57.39999924  5.68764659  2.12742666  3.84280624]\n",
      "# итерация: 1000, MSE: 39.82515396832278, веса: [57.3999999   5.75960683  2.01220597  3.88761049]\n"
     ]
    },
    {
     "data": {
      "text/plain": [
       "array([57.3999999 ,  5.75960683,  2.01220597,  3.88761049])"
      ]
     },
     "execution_count": 19,
     "metadata": {},
     "output_type": "execute_result"
    }
   ],
   "source": [
    "eval_model(X_st, y, iterations=1000, alpha=1e-2)"
   ]
  },
  {
   "cell_type": "code",
   "execution_count": 20,
   "metadata": {},
   "outputs": [],
   "source": [
    "def eval_sgd_model(X, y, iterations, qty_in_batch, alpha=1e-4):\n",
    "    W = np.random.randn(X.shape[1])\n",
    "    n = X.shape[0]\n",
    "    n_batch = n // qty_in_batch\n",
    "    if n % qty_in_batch != 0:\n",
    "        n_batch += 1\n",
    "    for i in range(1, iterations+1):\n",
    "        for b in range(n_batch):\n",
    "            start_ = qty_in_batch*b\n",
    "            end_ = qty_in_batch*(b+1)\n",
    "            X_tmp = X[start_ : end_, :]\n",
    "            y_tmp = y[start_ : end_]\n",
    "            y_pred_tmp = np.dot(X_tmp, W)\n",
    "            err = calc_mse(y_tmp, y_pred_tmp)\n",
    "            W -= (alpha * (1/n * 2 * np.dot((y_pred_tmp - y_tmp), X_tmp)))\n",
    "        if i % (iterations / 10) == 0:\n",
    "            print(f'# итерация: {i}, MSE: {err}, веса: {W}')\n",
    "    return W"
   ]
  },
  {
   "cell_type": "code",
   "execution_count": 21,
   "metadata": {},
   "outputs": [
    {
     "name": "stdout",
     "output_type": "stream",
     "text": [
      "# итерация: 500, MSE: 41.04061883527415, веса: [57.39679237  4.86541714  2.71983864  4.09518261]\n",
      "# итерация: 1000, MSE: 39.56753018831154, веса: [57.39830947  5.6966708   1.95859557  4.03017859]\n",
      "# итерация: 1500, MSE: 38.853399109026064, веса: [57.39798589  5.97963816  1.64155279  4.0668687 ]\n",
      "# итерация: 2000, MSE: 38.525705494170765, веса: [57.39786558  6.08124214  1.51092934  4.09708833]\n",
      "# итерация: 2500, MSE: 38.38252091045614, веса: [57.39781945  6.11925484  1.45744816  4.11307761]\n",
      "# итерация: 3000, MSE: 38.321821766116315, веса: [57.39780138  6.1338968   1.43563192  4.12047144]\n",
      "# итерация: 3500, MSE: 38.29654495088949, веса: [57.39779421  6.13964754  1.42675197  4.12369173]\n",
      "# итерация: 4000, MSE: 38.286129160386295, веса: [57.39779134  6.14193458  1.42314222  4.12505187]\n",
      "# итерация: 4500, MSE: 38.28186385833358, веса: [57.39779018  6.14285126  1.42167597  4.12561675]\n",
      "# итерация: 5000, MSE: 38.28012369489933, веса: [57.39778971  6.14322044  1.42108068  4.1258491 ]\n"
     ]
    },
    {
     "data": {
      "text/plain": [
       "array([57.39778971,  6.14322044,  1.42108068,  4.1258491 ])"
      ]
     },
     "execution_count": 21,
     "metadata": {},
     "output_type": "execute_result"
    }
   ],
   "source": [
    "eval_sgd_model(X_st, y, iterations=5000, qty_in_batch=5, alpha=1e-2)"
   ]
  },
  {
   "cell_type": "code",
   "execution_count": 22,
   "metadata": {},
   "outputs": [],
   "source": [
    "def eval_model_reg2(X, y, iterations, alpha=1e-4, lambda_=1e-8):\n",
    "    np.random.seed(42)\n",
    "    W = np.random.randn(X.shape[1])\n",
    "    n = X.shape[0]\n",
    "    for i in range(1, iterations+1):\n",
    "        y_pred = np.dot(X, W)\n",
    "        err = calc_mse(y, y_pred)\n",
    "        W -= alpha * (1/n * 2 * np.dot((y_pred - y), X) + lambda_ * W) \n",
    "        if i % (iterations / 10) == 0:\n",
    "            print(f'# итерация: {i}, MSE: {err}, веса: {W}')\n",
    "    return W"
   ]
  },
  {
   "cell_type": "code",
   "execution_count": 23,
   "metadata": {},
   "outputs": [
    {
     "name": "stdout",
     "output_type": "stream",
     "text": [
      "# итерация: 500, MSE: 39.98166412253416, веса: [57.39479705  5.10767868  2.46037345  4.08674902]\n",
      "# итерация: 1000, MSE: 39.80723120406398, веса: [57.39713005  5.765859    1.85689028  4.03893236]\n",
      "# итерация: 1500, MSE: 39.782405042800356, веса: [57.39713014  5.99060723  1.60529698  4.06885866]\n",
      "# итерация: 2000, MSE: 39.77852356578891, веса: [57.39713014  6.07152025  1.50155606  4.09300748]\n",
      "# итерация: 2500, MSE: 39.77788748617127, веса: [57.39713014  6.10185559  1.45905205  4.10572941]\n",
      "# итерация: 3000, MSE: 39.777779304702605, веса: [57.39713014  6.11355928  1.44170275  4.11160375]\n",
      "# итерация: 3500, MSE: 39.77775983405892, веса: [57.39713014  6.11816175  1.43463681  4.11416107]\n",
      "# итерация: 4000, MSE: 39.77775594321603, веса: [57.39713014  6.11999396  1.43176283  4.1152412 ]\n",
      "# итерация: 4500, MSE: 39.77775502451415, веса: [57.39713014  6.12072893  1.43059479  4.11568989]\n",
      "# итерация: 5000, MSE: 39.777754760507705, веса: [57.39713014  6.12102515  1.4301203   4.11587451]\n"
     ]
    },
    {
     "data": {
      "text/plain": [
       "array([57.39713014,  6.12102515,  1.4301203 ,  4.11587451])"
      ]
     },
     "execution_count": 23,
     "metadata": {},
     "output_type": "execute_result"
    }
   ],
   "source": [
    "eval_model_reg2(X_st, y, iterations=5000, alpha=1e-2, lambda_=1e-4)"
   ]
  },
  {
   "cell_type": "markdown",
   "metadata": {},
   "source": [
    "### Домашнее задание:  \n",
    "1. Постройте график зависимости весов всех признаков от lambda в L2-регуляризации (на данных из урока).\n",
    "2. Можно ли к одному и тому же признаку применить сразу и нормализацию, и стандартизацию?  \n",
    "3. Напишите функцию наподобие eval_model_reg2, но для применения L1-регуляризации *."
   ]
  },
  {
   "cell_type": "markdown",
   "metadata": {},
   "source": [
    "##### 1. Постройте график зависимости весов всех признаков от lambda в L2-регуляризации (на данных из урока)"
   ]
  },
  {
   "cell_type": "code",
   "execution_count": 24,
   "metadata": {},
   "outputs": [],
   "source": [
    "lambda_arr = np.logspace(-10, 0, 7)"
   ]
  },
  {
   "cell_type": "code",
   "execution_count": 25,
   "metadata": {},
   "outputs": [
    {
     "data": {
      "text/plain": [
       "array([1.00000000e-10, 4.64158883e-09, 2.15443469e-07, 1.00000000e-05,\n",
       "       4.64158883e-04, 2.15443469e-02, 1.00000000e+00])"
      ]
     },
     "execution_count": 25,
     "metadata": {},
     "output_type": "execute_result"
    }
   ],
   "source": [
    "lambda_arr"
   ]
  },
  {
   "cell_type": "code",
   "execution_count": 26,
   "metadata": {},
   "outputs": [
    {
     "name": "stdout",
     "output_type": "stream",
     "text": [
      "# итерация: 500, MSE: 39.98154848350919, веса: [57.3976656   5.10794282  2.46013454  4.08693806]\n",
      "# итерация: 1000, MSE: 39.80712257860055, веса: [57.3999999   5.76653146  1.85622321  4.03914637]\n",
      "# итерация: 1500, MSE: 39.782340657784594, веса: [57.4         5.99153675  1.60432664  4.06912267]\n",
      "# итерация: 2000, MSE: 39.778489059616376, веса: [57.4         6.07258433  1.50040895  4.09331596]\n",
      "# итерация: 2500, MSE: 39.77786771876971, веса: [57.4         6.10298573  1.45781125  4.10606673]\n",
      "# итерация: 3000, MSE: 39.7777660553991, веса: [57.4         6.11472089  1.44041502  4.11195715]\n",
      "# итерация: 3500, MSE: 39.777749334801314, веса: [57.4         6.11933808  1.43332642  4.11452273]\n",
      "# итерация: 4000, MSE: 39.77774657959556, веса: [57.4         6.12117707  1.43044178  4.11560688]\n",
      "# итерация: 4500, MSE: 39.77774612528818, веса: [57.4         6.12191514  1.42926882  4.11605745]\n",
      "# итерация: 5000, MSE: 39.77774605035897, веса: [57.4         6.12221275  1.4287921   4.11624295]\n",
      "# итерация: 500, MSE: 39.981548488385485, веса: [57.39766547  5.10794281  2.46013456  4.08693805]\n",
      "# итерация: 1000, MSE: 39.807122583155305, веса: [57.39999977  5.76653143  1.85622325  4.03914636]\n",
      "# итерация: 1500, MSE: 39.78234066032595, веса: [57.39999987  5.99153671  1.60432669  4.06912266]\n",
      "# итерация: 2000, MSE: 39.77848906079756, веса: [57.39999987  6.07258428  1.500409    4.09331595]\n",
      "# итерация: 2500, MSE: 39.77786771927961, веса: [57.39999987  6.10298568  1.45781131  4.10606672]\n",
      "# итерация: 3000, MSE: 39.77776605561204, веса: [57.39999987  6.11472084  1.44041508  4.11195714]\n",
      "# итерация: 3500, MSE: 39.777749334888874, веса: [57.39999987  6.11933803  1.43332648  4.11452271]\n",
      "# итерация: 4000, MSE: 39.777746579631334, веса: [57.39999987  6.12117701  1.43044184  4.11560686]\n",
      "# итерация: 4500, MSE: 39.777746125302734, веса: [57.39999987  6.12191508  1.42926888  4.11605744]\n",
      "# итерация: 5000, MSE: 39.77774605036489, веса: [57.39999987  6.1222127   1.42879216  4.11624293]\n",
      "# итерация: 500, MSE: 39.981548714759654, веса: [57.39765942  5.10794225  2.46013506  4.08693765]\n",
      "# итерация: 1000, MSE: 39.807122794606684, веса: [57.39999372  5.76653001  1.85622465  4.03914591]\n",
      "# итерация: 1500, MSE: 39.782340778322585, веса: [57.39999382  5.99153475  1.60432873  4.06912211]\n",
      "# итерация: 2000, MSE: 39.77848911566075, веса: [57.39999382  6.07258203  1.50041142  4.0933153 ]\n",
      "# итерация: 2500, MSE: 39.77786774298636, веса: [57.39999382  6.1029833   1.45781392  4.106066  ]\n",
      "# итерация: 3000, MSE: 39.777766065533584, веса: [57.39999382  6.11471839  1.4404178   4.11195639]\n",
      "# итерация: 3500, MSE: 39.77774933899147, веса: [57.39999382  6.11933555  1.43332925  4.11452195]\n",
      "# итерация: 4000, MSE: 39.77774658132981, веса: [57.39999382  6.12117452  1.43044463  4.11560609]\n",
      "# итерация: 4500, MSE: 39.77774612601762, веса: [57.39999382  6.12191258  1.42927168  4.11605666]\n",
      "# итерация: 5000, MSE: 39.77774605067907, веса: [57.39999382  6.12221019  1.42879496  4.11624216]\n",
      "# итерация: 500, MSE: 39.98155930300685, веса: [57.39737873  5.10791641  2.46015844  4.08691915]\n",
      "# итерация: 1000, MSE: 39.80713269084298, веса: [57.39971291  5.7664642   1.85628994  4.03912497]\n",
      "# итерация: 1500, MSE: 39.782346337682085, веса: [57.399713    5.99144378  1.60442371  4.06909626]\n",
      "# итерация: 2000, MSE: 39.77849174531259, веса: [57.399713    6.07247788  1.5005237   4.0932851 ]\n",
      "# итерация: 2500, MSE: 39.77786892689035, веса: [57.399713    6.10287267  1.45793539  4.10603298]\n",
      "# итерация: 3000, MSE: 39.77776660979388, веса: [57.399713    6.11460469  1.44054386  4.1119218 ]\n",
      "# итерация: 3500, MSE: 39.77774961326131, веса: [57.399713    6.1192204   1.43345753  4.11448655]\n",
      "# итерация: 4000, MSE: 39.77774674405675, веса: [57.399713    6.12105871  1.43057395  4.11557029]\n",
      "# итерация: 4500, MSE: 39.77774624311108, веса: [57.399713    6.12179647  1.42940149  4.11602068]\n",
      "# итерация: 5000, MSE: 39.77774614918459, веса: [57.399713    6.12209394  1.42892499  4.11620609]\n",
      "# итерация: 500, MSE: 39.98222495672031, веса: [57.3843534   5.10671712  2.46124267  4.08606112]\n",
      "# итерация: 1000, MSE: 39.80776760377195, веса: [57.38668164  5.76341273  1.85931601  4.03815399]\n",
      "# итерация: 1500, MSE: 39.78278189711732, веса: [57.38668173  5.98722736  1.60882402  4.06789889]\n",
      "# итерация: 2000, MSE: 39.77879279895764, веса: [57.38668173  6.06765225  1.50572427  4.09188643]\n",
      "# итерация: 2500, MSE: 39.778103739476265, веса: [57.38668173  6.09774823  1.46355966  4.10450389]\n",
      "# итерация: 3000, MSE: 39.77797218002449, веса: [57.38668173  6.10933805  1.4463802   4.11032003]\n",
      "# итерация: 3500, MSE: 39.77794286850009, веса: [57.38668173  6.11388734  1.43939617  4.11284755]\n",
      "# итерация: 4000, MSE: 39.77793492323473, веса: [57.38668173  6.11569504  1.43656067  4.11391318]\n",
      "# итерация: 4500, MSE: 39.77793235041648, веса: [57.38668173  6.11641887  1.43541037  4.11435504]\n",
      "# итерация: 5000, MSE: 39.7779314145097, веса: [57.38668173  6.11671006  1.43494395  4.11453652]\n",
      "# итерация: 500, MSE: 40.380463380451744, веса: [56.78619805  5.05195918  2.50953433  4.04756173]\n",
      "# итерация: 1000, MSE: 40.20719379670579, веса: [56.78826686  5.62835313  1.99096972  3.9955983 ]\n",
      "# итерация: 1500, MSE: 40.176463814925775, веса: [56.78826694  5.80430393  1.79657389  4.01641423]\n",
      "# итерация: 2000, MSE: 40.16876107989262, веса: [56.78826694  5.86098418  1.72453415  4.03268888]\n",
      "# итерация: 2500, MSE: 40.16640101591683, веса: [56.78826694  5.88001763  1.69801464  4.04051967]\n",
      "# итерация: 3000, MSE: 40.165602742626035, веса: [56.78826694  5.88660065  1.68829026  4.04378914]\n",
      "# итерация: 3500, MSE: 40.16532083432836, веса: [56.78826694  5.88892292  1.68473269  4.04507168]\n",
      "# итерация: 4000, MSE: 40.165219471506276, веса: [56.78826694  5.88975259  1.68343298  4.04555906]\n",
      "# итерация: 4500, MSE: 40.16518274931816, веса: [56.78826694  5.89005137  1.68295853  4.04574107]\n",
      "# итерация: 5000, MSE: 40.16516940171713, веса: [56.78826694  5.89015949  1.68278543  4.04580838]\n",
      "# итерация: 500, MSE: 409.54212479133395, веса: [38.26665748  3.66336643  2.94456998  3.25334751]\n",
      "# итерация: 1000, MSE: 409.54048995428445, веса: [38.26666667  3.66557047  2.94352908  3.25219166]\n",
      "# итерация: 1500, MSE: 409.54048712065065, веса: [38.26666667  3.66557477  2.94352609  3.25219037]\n",
      "# итерация: 2000, MSE: 409.5404871139916, веса: [38.26666667  3.66557478  2.94352608  3.25219037]\n",
      "# итерация: 2500, MSE: 409.54048711397536, веса: [38.26666667  3.66557478  2.94352608  3.25219037]\n",
      "# итерация: 3000, MSE: 409.5404871139754, веса: [38.26666667  3.66557478  2.94352608  3.25219037]\n",
      "# итерация: 3500, MSE: 409.5404871139754, веса: [38.26666667  3.66557478  2.94352608  3.25219037]\n",
      "# итерация: 4000, MSE: 409.5404871139754, веса: [38.26666667  3.66557478  2.94352608  3.25219037]\n",
      "# итерация: 4500, MSE: 409.5404871139754, веса: [38.26666667  3.66557478  2.94352608  3.25219037]\n",
      "# итерация: 5000, MSE: 409.5404871139754, веса: [38.26666667  3.66557478  2.94352608  3.25219037]\n"
     ]
    },
    {
     "data": {
      "image/png": "[encoded data removed]",
      "text/plain": [
       "<Figure size 432x288 with 1 Axes>"
      ]
     },
     "metadata": {
      "needs_background": "light"
     },
     "output_type": "display_data"
    }
   ],
   "source": [
    "w_arr = []\n",
    "\n",
    "for lmbd in lambda_arr:\n",
    "    w = eval_model_reg2(X_st, y, iterations = 5000, alpha=1e-2, lambda_=lmbd)\n",
    "    w_arr.append(w)\n",
    "w_arr = np.array(w_arr)\n",
    "\n",
    "for i in range(len(w_arr[0])):\n",
    "    plt.plot(lambda_arr, w_arr[:, i])\n",
    "plt.show()"
   ]
  },
  {
   "cell_type": "code",
   "execution_count": null,
   "metadata": {},
   "outputs": [],
   "source": []
  },
  {
   "cell_type": "markdown",
   "metadata": {},
   "source": [
    "##### 2. Можно ли к одному и тому же признаку применить сразу, и нормализацию, и стандартизацию?"
   ]
  },
  {
   "cell_type": "markdown",
   "metadata": {},
   "source": [
    "Это не имеет смысла, так как нормализация приводит все значения к единичной норме ([0;1], а стандартизация сдвигает данные так, что среднее оказывается в 0, а стандартное отклонение == 1. В первом случае данные как-то распределены в интервале от 0 до 1, во втором имеют вид +/- нормального Гауссовского распределения, но интервал значений !=[0;1]"
   ]
  },
  {
   "cell_type": "code",
   "execution_count": null,
   "metadata": {},
   "outputs": [],
   "source": []
  },
  {
   "cell_type": "markdown",
   "metadata": {},
   "source": [
    "##### 3. Напишите функцию наподобие eval_model_reg2, но для применения L1-регуляризации *"
   ]
  },
  {
   "cell_type": "code",
   "execution_count": 38,
   "metadata": {},
   "outputs": [],
   "source": [
    "def eval_model_reg1(X, y, iterations, alpha=1e-4, lambda_=1e-8):\n",
    "    np.random.seed(42)\n",
    "    W = np.random.randn(X.shape[1])\n",
    "    n = X.shape[0]\n",
    "    for i in range(1, iterations+1):\n",
    "        y_pred = np.dot(X, W)\n",
    "        err = calc_mse(y, y_pred)\n",
    "        W -= alpha * (1/n * 2 * np.dot((y_pred - y), X) + lambda_ * np.sign(W))\n",
    "        if i % (iterations / 10) == 0:\n",
    "            print (f'# итерация: {i}, MSE: {err}, веса: {W}')\n",
    "    return W\n",
    "    "
   ]
  },
  {
   "cell_type": "code",
   "execution_count": 41,
   "metadata": {},
   "outputs": [
    {
     "name": "stdout",
     "output_type": "stream",
     "text": [
      "# итерация: 500, MSE: 39.98753873813258, веса: [57.34766765  5.0893263   2.44461657  4.06686007]\n",
      "# итерация: 1000, MSE: 39.812755948509064, веса: [57.3499999   5.74710458  1.84207396  4.01849149]\n",
      "# итерация: 1500, MSE: 39.78776053753042, веса: [57.35        5.9717757   1.5907325   4.04823937]\n",
      "# итерация: 2000, MSE: 39.78379239006283, веса: [57.35        6.05268632  1.48704006  4.07234131]\n",
      "# итерация: 2500, MSE: 39.78311821878801, веса: [57.35        6.0830318   1.44453381  4.08505533]\n",
      "# итерация: 3000, MSE: 39.782994056806885, веса: [57.35        6.09474418  1.42717471  4.09093091]\n",
      "# итерация: 3500, MSE: 39.78296799391679, веса: [57.35        6.0993521   1.42010119  4.09349048]\n",
      "# итерация: 4000, MSE: 39.782961402683114, веса: [57.35        6.10118731  1.41722267  4.09457219]\n",
      "# итерация: 4500, MSE: 39.782959381579225, веса: [57.35        6.10192385  1.4160522   4.09502178]\n",
      "# итерация: 5000, MSE: 39.782958668379464, веса: [57.35        6.10222084  1.41557648  4.09520688]\n"
     ]
    },
    {
     "data": {
      "text/plain": [
       "array([57.35      ,  6.10222084,  1.41557648,  4.09520688])"
      ]
     },
     "execution_count": 41,
     "metadata": {},
     "output_type": "execute_result"
    }
   ],
   "source": [
    "eval_model_reg1(X_st, y, iterations=5000, alpha=1e-2, lambda_=1e-1)"
   ]
  },
  {
   "cell_type": "code",
   "execution_count": null,
   "metadata": {},
   "outputs": [],
   "source": []
  }
 ],
 "metadata": {
  "kernelspec": {
   "display_name": "Python 3",
   "language": "python",
   "name": "python3"
  },
  "language_info": {
   "codemirror_mode": {
    "name": "ipython",
    "version": 3
   },
   "file_extension": ".py",
   "mimetype": "text/x-python",
   "name": "python",
   "nbconvert_exporter": "python",
   "pygments_lexer": "ipython3",
   "version": "3.7.4"
  }
 },
 "nbformat": 4,
 "nbformat_minor": 2
}
